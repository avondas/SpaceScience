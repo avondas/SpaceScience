{
 "cells": [
  {
   "cell_type": "code",
   "execution_count": 4,
   "metadata": {},
   "outputs": [
    {
     "name": "stdout",
     "output_type": "stream",
     "text": [
      "[-1.23169528e+08  8.16347835e+07 -4.03163275e+03 -1.69330832e+01\n",
      " -2.49504511e+01  4.93608024e-04]\n"
     ]
    }
   ],
   "source": [
    "import spiceypy\n",
    "import datetime\n",
    "\n",
    "# get today's date and ensure it takes midnight for a time\n",
    "today_date = datetime.datetime.today().strftime(\"%Y-%m-%dT00:00:00\")\n",
    "\n",
    "\n",
    "# get the needed kernels\n",
    "spiceypy.furnsh(\"kernels/lsk/naif0012.tls\")\n",
    "spiceypy.furnsh(\"kernels/spk/de432s.bsp\")\n",
    "\n",
    "# put the date into SPICE for computation\n",
    "et_midnight = spiceypy.utc2et(today_date)\n",
    "\n",
    "# we get back the earth's vectors x, y and z coordinates as well as the light time, velocities in km/s\n",
    "earth_vectors, earth_light_time = spiceypy.spkgeo(targ=399, et=et_midnight, ref=\"ECLIPJ2000\", obs=10)\n",
    "print(earth_vectors)"
   ]
  },
  {
   "cell_type": "code",
   "execution_count": 5,
   "metadata": {},
   "outputs": [
    {
     "name": "stdout",
     "output_type": "stream",
     "text": [
      "30.15384418814744\n"
     ]
    }
   ],
   "source": [
    "import numpy as np\n",
    "\n",
    "#convert the output into an array for easier accessing\n",
    "earth_vectors = np.array(earth_vectors)\n",
    "\n",
    "# recalculate distance to the sun to check if np does the same as the math from comp_earth\n",
    "earth_sun_distance = np.linalg.norm(earth_vectors[:3])\n",
    "\n",
    "# calculate the speed at which the earth goes around the sun\n",
    "earth_orbit_speed = np.linalg.norm(earth_vectors[3:])\n",
    "\n",
    "print(earth_orbit_speed)"
   ]
  },
  {
   "cell_type": "code",
   "execution_count": 6,
   "metadata": {},
   "outputs": [
    {
     "name": "stdout",
     "output_type": "stream",
     "text": [
      "29.968683482801897\n"
     ]
    }
   ],
   "source": [
    "spiceypy.furnsh(\"kernels/pck/gm_de431.tpc\")\n",
    "\n",
    "# we don't need the first parameter, but we do want the gravitational parameter x the mass of the sun\n",
    "# the function needs the terrestal body id, the Sun so 10, what we want back(the gravitational parameter x the mass) and the amount of dimensions it has\n",
    "_, GM_SUN = spiceypy.bodvcd(bodyid=10, item=\"GM\", maxn=1)\n",
    "\n",
    "# gives back the velocity in km/s\n",
    "velocity_orbit_func = lambda gm, r: np.sqrt(gm/r)\n",
    "\n",
    "# this determines the speed by using the function above with the theoretically correct data to compare\n",
    "earth_orbit_speed_theoretical = velocity_orbit_func(GM_SUN[0], earth_sun_distance)\n",
    "\n",
    "print(earth_orbit_speed_theoretical)"
   ]
  }
 ],
 "metadata": {
  "kernelspec": {
   "display_name": "Python 3 (ipykernel)",
   "language": "python",
   "name": "python3"
  },
  "language_info": {
   "codemirror_mode": {
    "name": "ipython",
    "version": 3
   },
   "file_extension": ".py",
   "mimetype": "text/x-python",
   "name": "python",
   "nbconvert_exporter": "python",
   "pygments_lexer": "ipython3",
   "version": "3.9.17"
  }
 },
 "nbformat": 4,
 "nbformat_minor": 2
}
