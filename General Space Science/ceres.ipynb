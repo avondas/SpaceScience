{
 "cells": [
  {
   "cell_type": "code",
   "execution_count": 1,
   "metadata": {},
   "outputs": [],
   "source": [
    "import numpy as np\n",
    "import datetime\n",
    "import spiceypy\n",
    "\n",
    "# Load the SPICE kernel\n",
    "spiceypy.furnsh('kernels/spk/de432s.bsp')\n",
    "spiceypy.furnsh('kernels/spk/codes_300ast_20100725.bsp')\n",
    "spiceypy.furnsh('kernels/misc/codes_300ast_20100725.tf')\n",
    "spiceypy.furnsh('kernels/lsk/naif0012.tls')\n",
    "spiceypy.furnsh('kernels/pck/gm_de431.tpc')\n",
    "\n",
    "# Define the UTC and ET\n",
    "utc = datetime.datetime.now().strftime('%Y-%m-%dT%H:%M:%S')\n",
    "et = spiceypy.utc2et(utc)"
   ]
  },
  {
   "cell_type": "code",
   "execution_count": 2,
   "metadata": {},
   "outputs": [],
   "source": [
    "# sxform transforms the matrix of the instring frame to the matrix of the tostring frame at the epoch et\n",
    "matrix = spiceypy.sxform(instring=\"ECLIPJ2000_DE405\", tostring=\"ECLIPJ2000\", et=et)\n",
    "\n",
    "# get the state vector of ceres\n",
    "ceres_state_vector, _ = spiceypy.spkgeo(targ=2000001, et=et, ref='ECLIPJ2000', obs=10)\n",
    "\n",
    "# gravitational parameter of the sun\n",
    "_, gravitational_sun_pre = spiceypy.bodvcd(bodyid=10, item='GM', maxn=1)\n",
    "\n",
    "# get the float\n",
    "gravitational_sun = gravitational_sun_pre[0]\n",
    "\n",
    "# oscltx takes the state vector, corresponding ET and the gravitational parameter to calculate the orbital elements for that particular time\n",
    "ceres_orbital_elements = spiceypy.oscltx(state=ceres_state_vector, et=et, mu=gravitational_sun)\n",
    "\n",
    "ceres_semi_major_astronomical_units = spiceypy.convrt(ceres_orbital_elements[9], inunit='km', outunit='AU')\n",
    "ceres_perihelion_astronomical_units = spiceypy.convrt(ceres_orbital_elements[0], inunit='km', outunit='AU')\n",
    "eccentricity_ceres = np.degrees(ceres_orbital_elements[1])\n",
    "inclination_ceres_degrees = np.degrees(ceres_orbital_elements[2])\n",
    "longitude_node_ceres_degrees = np.degrees(ceres_orbital_elements[3])\n",
    "argument_perihelion_ceres_degrees = np.degrees(ceres_orbital_elements[4])\n",
    "\n",
    "ceres_orbit_time_years = ceres_orbital_elements[10] / (365.0 * 86400.0)"
   ]
  },
  {
   "cell_type": "code",
   "execution_count": 3,
   "metadata": {},
   "outputs": [
    {
     "name": "stdout",
     "output_type": "stream",
     "text": [
      "[ 1.18420804e+00 -1.37469843e-01  2.66616786e+00  1.42592677e+05\n",
      " -4.74691334e+05  1.70038695e+05]\n",
      "[-5.55369215e+07 -4.18470124e+08 -3.01065043e+06  1.68819012e+01\n",
      " -3.57220944e+00 -3.22305659e+00]\n"
     ]
    }
   ],
   "source": [
    "# conics takes the orbital elements and the ET to calculate the state vector of the body\n",
    "ceres_state_re = spiceypy.conics([ceres_orbital_elements[0], ceres_orbital_elements[1], \n",
    "                                    ceres_orbital_elements[2], ceres_orbital_elements[3], ceres_orbital_elements[4],\n",
    "                                     ceres_orbital_elements[5], ceres_orbital_elements[6], gravitational_sun], et)\n",
    "\n",
    "print(ceres_state_re)\n",
    "print(ceres_state_vector)"
   ]
  }
 ],
 "metadata": {
  "kernelspec": {
   "display_name": "Python 3 (ipykernel)",
   "language": "python",
   "name": "python3"
  },
  "language_info": {
   "codemirror_mode": {
    "name": "ipython",
    "version": 3
   },
   "file_extension": ".py",
   "mimetype": "text/x-python",
   "name": "python",
   "nbconvert_exporter": "python",
   "pygments_lexer": "ipython3",
   "version": "3.9.17"
  }
 },
 "nbformat": 4,
 "nbformat_minor": 2
}
