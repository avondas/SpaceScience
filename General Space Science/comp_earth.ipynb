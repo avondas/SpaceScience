{
 "cells": [
  {
   "cell_type": "code",
   "execution_count": 5,
   "metadata": {},
   "outputs": [],
   "source": [
    "import spiceypy"
   ]
  },
  {
   "cell_type": "code",
   "execution_count": 6,
   "metadata": {},
   "outputs": [],
   "source": [
    "import datetime\n",
    "\n",
    "# get today's date and ensure it takes midnight for a time\n",
    "today_date = datetime.datetime.today().strftime(\"%Y-%m-%dT00:00:00\")\n",
    "\n",
    "\n",
    "# get the needed kernels\n",
    "spiceypy.furnsh(\"kernels/lsk/naif0012.tls\")\n",
    "spiceypy.furnsh(\"kernels/spk/de432s.bsp\")\n",
    "\n",
    "# put the date into SPICE for computation\n",
    "et_midnight = spiceypy.utc2et(today_date)"
   ]
  },
  {
   "cell_type": "code",
   "execution_count": 7,
   "metadata": {},
   "outputs": [
    {
     "name": "stdout",
     "output_type": "stream",
     "text": [
      "[-1.23169528e+08  8.16347835e+07 -4.03163275e+03 -1.69330832e+01\n",
      " -2.49504511e+01  4.93608024e-04]\n"
     ]
    }
   ],
   "source": [
    "# we get back the earth's vectors x, y and z coordinates as well as the light time, velocities in km/s\n",
    "# the spkgeo gets as input the special ID of Earth (399 NAIF ID), the midnight time, \n",
    "# the ecliptic year the calculation needs to be based upon(we dont go in a straight circle around the sun) and the ID of observer of the target the sun(NAIF ID 10)\n",
    "# NAIF ID == NASA information system in digits to represent natural bodies and spacecraft\n",
    "earth_vectors, earth_light_time = spiceypy.spkgeo(targ=399, et=et_midnight, ref=\"ECLIPJ2000\", obs=10)\n",
    "print(earth_vectors)"
   ]
  },
  {
   "cell_type": "code",
   "execution_count": 8,
   "metadata": {},
   "outputs": [
    {
     "name": "stdout",
     "output_type": "stream",
     "text": [
      "147766608.061114\n",
      "0.987758765916503\n"
     ]
    }
   ],
   "source": [
    "import math\n",
    "\n",
    "# distance of earth from the sun in km\n",
    "earth_sun_distance = math.sqrt(earth_vectors[0]**2.0 + earth_vectors[1]**2.0 + earth_vectors[2]**2.0)\n",
    "print(earth_sun_distance)\n",
    "\n",
    "# distance of earth from the sun in astronomical units(unit of length = the average distance between earth and sun)\n",
    "earth_sun_distance_au = spiceypy.convrt(earth_sun_distance, \"km\", \"au\")\n",
    "print(earth_sun_distance_au)"
   ]
  }
 ],
 "metadata": {
  "kernelspec": {
   "display_name": "Python 3 (ipykernel)",
   "language": "python",
   "name": "python3"
  }
 },
 "nbformat": 4,
 "nbformat_minor": 2
}
